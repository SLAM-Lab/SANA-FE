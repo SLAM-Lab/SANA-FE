{
 "cells": [
  {
   "cell_type": "markdown",
   "metadata": {},
   "source": [
    "# SANA-FE Tutorial #\n",
    "<a target=\"_blank\" href=\"https://colab.research.google.com/github/SLAM-Lab/SANA-FE/blob/cpp/tutorial/tutorial_0_intro.ipynb\">\n",
    "  <img src=\"https://colab.research.google.com/assets/colab-badge.svg\" alt=\"Open In Colab\"/>"
   ]
  },
  {
   "cell_type": "code",
   "execution_count": null,
   "metadata": {},
   "outputs": [],
   "source": [
    "%pip install --extra-index-url https://test.pypi.org/simple/ sanafe==0.0.7\n",
    "%pip install pyyaml\n",
    "!wget -nc https://raw.githubusercontent.com/SLAM-Lab/SANA-FE/cpp/tutorial/arch.yaml\n",
    "!wget -nc https://raw.githubusercontent.com/SLAM-Lab/SANA-FE/cpp/tutorial/snn.yaml\n",
    "import sanafe"
   ]
  },
  {
   "cell_type": "markdown",
   "metadata": {},
   "source": [
    "### Running SANA-FE for the first time ###\n",
    "Run SANA-FE for the first time using a minimal network and architecture we have provided. This will load the architecture, SNN and launch a short simulation. After the simulation has finished, a Dict summary of the simulated results is returned back and printed. As part of this tutorial, we will extend the SNN and architecture and will look at the hardware insights you can get from SANA-FE."
   ]
  },
  {
   "cell_type": "code",
   "execution_count": null,
   "metadata": {},
   "outputs": [],
   "source": [
    "# First, load an architecture description and build the chip (for simulation)\n",
    "first_arch = sanafe.load_arch(\"arch.yaml\")\n",
    "\n",
    "# Second, load an SNN from file and upload it to the chip. We pass the\n",
    "#  architecture as an extra argument so that SANA-FE can check the mappings are\n",
    "#  to valid cores\n",
    "hello_snn = sanafe.load_net(\"snn.yaml\", first_arch)\n",
    "\n",
    "# Third, create the spiking chip and upload the SNN to it\n",
    "first_chip = sanafe.SpikingChip(first_arch)\n",
    "first_chip.load(hello_snn)\n",
    "\n",
    "# Fourth and finally, simulate the programmed chip for 1000 simulated timesteps\n",
    "results = first_chip.sim(1000)"
   ]
  },
  {
   "cell_type": "code",
   "execution_count": null,
   "metadata": {},
   "outputs": [],
   "source": [
    "# Print a summary of the simulation\n",
    "import yaml\n",
    "print(f\"Run results:\\n{yaml.dump(results)}\")"
   ]
  }
 ],
 "metadata": {
  "kernelspec": {
   "display_name": "neuro",
   "language": "python",
   "name": "python3"
  },
  "language_info": {
   "codemirror_mode": {
    "name": "ipython",
    "version": 3
   },
   "file_extension": ".py",
   "mimetype": "text/x-python",
   "name": "python",
   "nbconvert_exporter": "python",
   "pygments_lexer": "ipython3",
   "version": "3.8.20"
  }
 },
 "nbformat": 4,
 "nbformat_minor": 2
}
