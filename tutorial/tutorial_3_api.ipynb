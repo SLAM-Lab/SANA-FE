{
 "cells": [
  {
   "cell_type": "code",
   "execution_count": null,
   "id": "efb80e47",
   "metadata": {},
   "outputs": [],
   "source": [
    "# TODO HACK deleteme\n",
    "import sys\n",
    "import os\n",
    "PROJECT_DIR = \"/home/usr1/jboyle/neuro/sana-fe\"\n",
    "sys.path.insert(0, os.path.join(PROJECT_DIR))"
   ]
  },
  {
   "cell_type": "markdown",
   "id": "06a41dfc",
   "metadata": {},
   "source": [
    "# Using SANA-FE's Python API #\n",
    "SANA-FE v2 supports building SNNs in Python, in addition to file-based inputs. Using the Python API, try extending the example SNN from Tutorial 2 by completing the following exercises.\n",
    "\n",
    "![Example SNN](example_snn.svg)\n",
    "\n",
    "As a reminder, these were:\n",
    "#### Exercises ####\n",
    "1. Define a new mapped neuron: 1.1. To do this, add another neuron to group 1 (i.e. increment the number of neurons in the group) and map neuron 1.1 to core 0.1\n",
    "2. Add edges from neurons 0.0 and 0.1, both to neuron 1.1, with weights -2 & 3 respectively"
   ]
  },
  {
   "cell_type": "code",
   "execution_count": null,
   "id": "f251b568",
   "metadata": {},
   "outputs": [],
   "source": [
    "#%pip install --extra-index-url https://test.pypi.org/simple/ sanafe==0.0.3\n",
    "%pip install pyyaml\n",
    "!wget -nc https://raw.githubusercontent.com/SLAM-Lab/SANA-FE/cpp/tutorial/arch.yaml\n",
    "!wget -nc https://raw.githubusercontent.com/SLAM-Lab/SANA-FE/cpp/tutorial/snn.yaml\n",
    "import sanafe"
   ]
  },
  {
   "cell_type": "code",
   "execution_count": null,
   "id": "f66fd9eb",
   "metadata": {},
   "outputs": [],
   "source": [
    "# Create an example SNN\n",
    "in_attributes = {\"threshold\": 1.0, \"reset\": 0.0, \"log_spikes\": True, \"log_potential\": True}\n",
    "out_attributes = {\"threshold\": 2.0, \"reset\": 0.0, \"synapse_hw_name\": \"tutorial_synapse_uncompressed\"}\n",
    "\n",
    "# Create neuron groups\n",
    "snn = sanafe.Network()\n",
    "in_group = snn.create_neuron_group(\"in\", 2, in_attributes)\n",
    "out_group = snn.create_neuron_group(\"out\", 1, out_attributes)\n",
    "\n",
    "#neurons = in_group[0:2]\n",
    "\n",
    "# Set neuron attributes\n",
    "print(in_group[0])\n",
    "in_group[0].configure(model_parameters={\"bias\": 0.2})\n",
    "\n",
    "# Create connections\n",
    "in_group[0].connect_to_neuron(out_group[0], {\"weight\": -1.0})\n",
    "\n",
    "# Create mappings\n",
    "arch = sanafe.load_arch(\"arch.yaml\")\n",
    "core = arch.tiles[0].cores[0]\n",
    "in_group[0].map_to_core(core)\n",
    "in_group[1].map_to_core(core)\n",
    "out_group[0].map_to_core(core)"
   ]
  },
  {
   "cell_type": "code",
   "execution_count": null,
   "id": "63e49969",
   "metadata": {},
   "outputs": [],
   "source": [
    "import yaml\n",
    "\n",
    "tutorial_chip = sanafe.SpikingChip(arch)\n",
    "tutorial_chip.load(snn)\n",
    "results = tutorial_chip.sim(200)\n",
    "print(yaml.dump(results))"
   ]
  },
  {
   "cell_type": "code",
   "execution_count": null,
   "id": "43db3dcc",
   "metadata": {},
   "outputs": [],
   "source": [
    "import sanafe.tutorial\n",
    "\n",
    "print(snn)\n",
    "sanafe.tutorial.check_api(snn)"
   ]
  }
 ],
 "metadata": {
  "kernelspec": {
   "display_name": "neuro",
   "language": "python",
   "name": "python3"
  },
  "language_info": {
   "codemirror_mode": {
    "name": "ipython",
    "version": 3
   },
   "file_extension": ".py",
   "mimetype": "text/x-python",
   "name": "python",
   "nbconvert_exporter": "python",
   "pygments_lexer": "ipython3",
   "version": "3.8.20"
  }
 },
 "nbformat": 4,
 "nbformat_minor": 5
}
