{
 "cells": [
  {
   "cell_type": "markdown",
   "id": "e2f1fff6",
   "metadata": {},
   "source": [
    "# SANA-FE Outputs and Traces #\n",
    "\n",
    "Now that you have seen how to define hardware architectures and SNNs,\n",
    "we will look at the outputs SANA-FE can generate. Note that this tutorial uses the Python interface -\n",
    "if you want to see how to generate traces running from the command line see\n",
    "the `README`\n",
    "\n",
    "\n",
    "The first useful output is one you should have already seen: the run summary. This\n",
    "is printed, saved as a YAML file `run_summary.yaml`, or returned as a Python\n",
    "Dictionary. We will run our example SNN running on the example architecture\n",
    "from earlier.\n"
   ]
  },
  {
   "cell_type": "code",
   "execution_count": null,
   "id": "d6da3532",
   "metadata": {},
   "outputs": [],
   "source": [
    "# TODO HACK deleteme\n",
    "import sys\n",
    "import os\n",
    "PROJECT_DIR = \"/home/usr1/jboyle/neuro/sana-fe\"\n",
    "sys.path.insert(0, os.path.join(PROJECT_DIR))"
   ]
  },
  {
   "cell_type": "code",
   "execution_count": null,
   "id": "d16e5cd4",
   "metadata": {},
   "outputs": [],
   "source": [
    "#%pip install --extra-index-url https://test.pypi.org/simple/ sanafe==0.0.3\n",
    "%pip install pyyaml\n",
    "!wget -nc https://raw.githubusercontent.com/SLAM-Lab/SANA-FE/cpp/tutorial/arch.yaml\n",
    "!wget -nc https://raw.githubusercontent.com/SLAM-Lab/SANA-FE/cpp/tutorial/snn.yaml\n",
    "import sanafe\n",
    "import yaml"
   ]
  },
  {
   "cell_type": "code",
   "execution_count": null,
   "id": "6f812bf2",
   "metadata": {},
   "outputs": [],
   "source": [
    "# Load the toy architecture and SNN again, similar to the one used in the last\n",
    "#  few tutorials\n",
    "arch = sanafe.load_arch(\"arch.yaml\")\n",
    "snn = sanafe.Network()\n",
    "snn.create_neuron_group(\"in\", 2)\n",
    "snn.create_neuron_group(\"out\", 2)\n",
    "\n",
    "snn.groups[\"in\"].neurons[0].configure(log_spikes=True, log_potential=True,\n",
    "                                      model_parameters={\"bias\": 0.2, \"threshold\": 1.0})\n",
    "snn.groups[\"in\"].neurons[1].configure(log_spikes=True, log_potential=True,\n",
    "                                      model_parameters={\"bias\": 0.5, \"threshold\": 1.0})\n",
    "snn.groups[\"out\"].neurons[0].configure(model_parameters={\"threshold\": 2.0})\n",
    "snn.groups[\"out\"].neurons[1].configure(model_parameters={\"threshold\": 2.0})\n",
    "\n",
    "snn.groups[\"in\"].neurons[0].connect_to_neuron(snn.groups[\"out\"].neurons[0], {\"weight\": -1.0})\n",
    "snn.groups[\"in\"].neurons[0].connect_to_neuron(snn.groups[\"out\"].neurons[1], {\"weight\": -2.0})\n",
    "snn.groups[\"in\"].neurons[1].connect_to_neuron(snn.groups[\"out\"].neurons[1], {\"weight\": 3.0})\n",
    "\n",
    "snn.groups[\"in\"].neurons[0].map_to_core(arch.tiles[0].cores[0])\n",
    "snn.groups[\"in\"].neurons[1].map_to_core(arch.tiles[0].cores[0])\n",
    "snn.groups[\"out\"].neurons[0].map_to_core(arch.tiles[0].cores[0])\n",
    "snn.groups[\"out\"].neurons[1].map_to_core(arch.tiles[0].cores[0])\n",
    "print(snn)\n",
    "\n",
    "chip = sanafe.SpikingChip(arch, record_spikes=True, record_potentials=True)\n",
    "chip.load(snn)\n",
    "# This time we only need to run for 10 timesteps\n",
    "results = chip.sim(10, heartbeat=1)\n"
   ]
  },
  {
   "cell_type": "code",
   "execution_count": null,
   "id": "0d4eb605",
   "metadata": {},
   "outputs": [],
   "source": [
    "# Pretty-print the run summary, which is always formatted as YAML\n",
    "print(yaml.dump(results))"
   ]
  },
  {
   "cell_type": "markdown",
   "id": "c2f70416",
   "metadata": {},
   "source": [
    "\n",
    "## SNN Traces ##\n",
    "\n",
    "It is possible to extract more detail from the simulation via SANA-FE's various\n",
    "trace formats. First we will focus on the SNN traces. These\n",
    "give us insight in the dynamics of the SNN being executed.\n",
    "\n",
    "SANA-FE supports both spike and neuron potential traces. Spike\n",
    "traces tell us when each neuron fired and sent a spike, commonly visualized as\n",
    "'raster' plots in neuroscience. SANA-FE will save a file `spikes.csv` with a\n",
    "line per spike.\n",
    "\n",
    "SNN traces are enabled/disabled globally, but also filtered by per-neuron\n",
    "spike and voltage probes. If spike traces are enabled, the simulator will record\n",
    "spikes for probed neurons, i.e., any neurons with attribute `log_spikes` set.\n",
    "SANA-FE will output a CSV file with the compressed format:\n",
    "\n",
    "   `<neuron>,<timestep>`\n",
    "\n"
   ]
  },
  {
   "cell_type": "code",
   "execution_count": null,
   "id": "95cc7e81",
   "metadata": {},
   "outputs": [],
   "source": [
    "import matplotlib\n",
    "import matplotlib.pyplot as plt\n",
    "import csv\n",
    "\n",
    "## Create the spike raster plot\n",
    "timesteps = []\n",
    "spikes = []\n",
    "print(\"Spike data:\")\n",
    "with open(\"spikes.csv\") as spikes_file:\n",
    "    spike_reader = csv.DictReader(spikes_file)\n",
    "    for line in spike_reader:\n",
    "        print(line)\n",
    "        (nid, timestep) = line[\"neuron\"], line[\"timestep\"]\n",
    "        group, neuron = nid.split(\".\")\n",
    "        group, neuron, timestep = group, int(neuron), int(timestep)\n",
    "        timesteps.append(timestep)\n",
    "        spikes.append(neuron)\n",
    "\n",
    "fig = plt.figure(figsize=(5, 2))\n",
    "ax = plt.gca()\n",
    "colors = matplotlib.colors.ListedColormap((\"#ff7f0e\", \"#1f77b4\"))\n",
    "ax.scatter(timesteps, spikes, marker=\"|\", s=700, linewidths=3, c=spikes,\n",
    "           cmap=colors)\n",
    "ax.set_xlabel(\"Time-step\")\n",
    "ax.set_xlim((0, 10.1))\n",
    "ax.set_xticks((0, 2, 4, 6, 8, 10))\n",
    "\n",
    "plt.minorticks_on()\n",
    "ax.yaxis.set_tick_params(which='minor', bottom=False)\n",
    "ax.xaxis.set_minor_locator(matplotlib.ticker.MultipleLocator(1))\n",
    "\n",
    "ax.set_ylim((-0.5, 1.5))\n",
    "ax.set_yticks((0, 1))\n",
    "_ = ax.set_yticklabels((\"Neuron in.0\", \"Neuron in.1\"))"
   ]
  },
  {
   "cell_type": "markdown",
   "id": "06bb0d7d",
   "metadata": {},
   "source": [
    "Similarly, potential traces can be enabled globally and filtered locally to record the\n",
    "voltages at probed neurons. Voltage probes are set via the attribute `log_potential`.\n",
    "The potentials are recorded in another CSV file using one column per probe and one line per\n",
    "time-step.\n"
   ]
  },
  {
   "cell_type": "code",
   "execution_count": null,
   "id": "a40b4048",
   "metadata": {},
   "outputs": [],
   "source": [
    "import numpy as np\n",
    "\n",
    "# Extract the voltages from the CSV file\n",
    "voltages = np.zeros((11, 2))\n",
    "with open(\"potentials.csv\", \"r\") as v_file:\n",
    "    v_reader = csv.DictReader(v_file)\n",
    "    for line in v_reader:\n",
    "        print(line)\n",
    "        (timestep, v1, v2) = (int(line[\"timestep\"]), float(line[\"neuron in.0\"]),\n",
    "                              float(line[\"neuron in.1\"]))\n",
    "        voltages[timestep, 0] = v1\n",
    "        voltages[timestep, 1] = v2\n",
    "\n",
    "plt.figure(figsize=(6, 2.5))\n",
    "ax = plt.gca()\n",
    "ax.plot(voltages[:, 1], '--^')\n",
    "ax.plot(voltages[:, 0], '-o')\n",
    "ax.set_ylabel(\"Neuron Potential (V)\")\n",
    "plt.legend((\"Neuron 0.1\", \"Neuron 0.0\"))\n",
    "\n",
    "ax.yaxis.set_tick_params(which='minor', bottom=False)\n",
    "ax.xaxis.set_minor_locator(matplotlib.ticker.MultipleLocator(1))\n",
    "ax.set_xlim((0, 10.1))\n",
    "_ = ax.set_xlabel(\"Time-step\")"
   ]
  },
  {
   "cell_type": "markdown",
   "id": "b4739e05",
   "metadata": {},
   "source": [
    "## Hardware Traces ##\n",
    "\n",
    "In addition to information on SNN behavior, SANA-FE can also output detailed\n",
    "per-timestep performance data when requested. SANA-FE has two types of hardware\n",
    "trace: hardware *performance* traces and spike *message* traces.\n",
    "\n",
    "Hardware performance traces give much more insight into the breakdown of on-chip\n",
    "activity over time. In this toy example, we plotted how many neurons fired on each\n",
    "time-step and the total energy consumed by the chip per time-step."
   ]
  },
  {
   "cell_type": "code",
   "execution_count": null,
   "id": "f732a1c2",
   "metadata": {},
   "outputs": [],
   "source": [
    "# Run again but with hardware traces enabled\n",
    "chip = sanafe.SpikingChip(arch, record_perf=True, record_messages=True)\n",
    "chip.load(snn)\n",
    "results = chip.sim(10)"
   ]
  },
  {
   "cell_type": "code",
   "execution_count": null,
   "id": "90b93718",
   "metadata": {},
   "outputs": [],
   "source": [
    "fig, ax = plt.subplots(2, figsize=(5, 4))\n",
    "fired = np.zeros((11))\n",
    "energy = np.zeros((11))\n",
    "with open(\"perf.csv\", \"r\") as perf_file:\n",
    "    reader = csv.DictReader(perf_file)\n",
    "    for line in reader:\n",
    "        print(line)\n",
    "        (timestep, f, e) = (int(line[\"timestep\"]), int(line[\"fired\"]),\n",
    "                              float(line[\"total_energy\"]))\n",
    "        fired[timestep] = f\n",
    "        energy[timestep] = e\n",
    "\n",
    "ax[0].plot(fired, '-o')\n",
    "ax[0].set_ylabel(\"Neurons Fired\")\n",
    "ax[1].plot(energy * 1.0e12, '-o')\n",
    "ax[1].set_ylabel(\"Total Energy (pJ)\")\n",
    "\n",
    "plt.minorticks_on()\n",
    "ax[1].xaxis.set_minor_locator(matplotlib.ticker.MultipleLocator(1))\n",
    "\n",
    "ax[0].set_xlim((0, 10.1))\n",
    "ax[1].set_xlim((0, 10.1))\n",
    "ax[0].set_xticks((0, 2, 4, 6, 8, 10))\n",
    "ax[1].set_xticks((0, 2, 4, 6, 8, 10))\n",
    "_ = ax[1].set_xlabel(\"Time-step\")\n"
   ]
  },
  {
   "cell_type": "markdown",
   "id": "b79eaf90",
   "metadata": {},
   "source": [
    "Finally, the messages trace `messages.csv` contains information about all packets sent to the\n",
    "network during the simulation, and includes information about each packet like\n",
    "its various delays and how many hops it makes. This trace is useful if you\n",
    "are interested in the network performance, or want to simulate the network in\n",
    "even more detail e.g., using an event-drive or cycle-accurate\n",
    "simulator. This information is more niche, and so we don't visualize it in\n",
    "this tutorial."
   ]
  }
 ],
 "metadata": {
  "kernelspec": {
   "display_name": "neuro",
   "language": "python",
   "name": "python3"
  },
  "language_info": {
   "codemirror_mode": {
    "name": "ipython",
    "version": 3
   },
   "file_extension": ".py",
   "mimetype": "text/x-python",
   "name": "python",
   "nbconvert_exporter": "python",
   "pygments_lexer": "ipython3",
   "version": "3.8.20"
  }
 },
 "nbformat": 4,
 "nbformat_minor": 5
}
