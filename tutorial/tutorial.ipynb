{
 "cells": [
  {
   "cell_type": "code",
   "execution_count": 1,
   "metadata": {},
   "outputs": [],
   "source": [
    "# TODO: remove once we've created a pip package!\n",
    "import os\n",
    "import sys\n",
    "SCRIPT_DIR = os.path.dirname(os.path.abspath(\"tutorial.ipynb\"))\n",
    "PROJECT_DIR = os.path.abspath((os.path.join(SCRIPT_DIR, os.pardir)))\n",
    "sys.path.insert(0, PROJECT_DIR)\n",
    "import sanafe"
   ]
  },
  {
   "cell_type": "code",
   "execution_count": null,
   "metadata": {},
   "outputs": [],
   "source": [
    "arch = sanafe.load_arch(\"arch.yaml\")\n",
    "print(arch)"
   ]
  },
  {
   "cell_type": "code",
   "execution_count": null,
   "metadata": {},
   "outputs": [],
   "source": [
    "snn = sanafe.Network()\n",
    "in_attributes = {\"threshold\": 1.0, \"reset\": 0.0, \"log_spikes\": True, \"log_potential\": True}\n",
    "in_group = snn.create_neuron_group(\"in\", 2, in_attributes)\n",
    "\n",
    "in_group.neurons[0].set_attributes(model_parameters={\"bias\": 0.2})\n",
    "#out_attributes = {\"threshold\": 2.0, \"reset\": 0.0, \"synapse_hw_name\": \"tutorial_synapse_uncompressed\"}\n",
    "#out_group = snn.create_neuron_group(\"out\", 1, out_attributes)\n",
    "\n",
    "# Connections\n",
    "#in_group.neurons[0].connect_to_neuron(out_group.neurons[0], {\"weight\": -1.0})\n",
    "\n",
    "# Mappings\n",
    "tile = arch.tiles[0]\n",
    "core = tile.cores[0]\n",
    "n = in_group.neurons[0]\n",
    "core.map_neuron(n)\n",
    "n = in_group.neurons[1]\n",
    "core.map_neuron(n)\n",
    "#core.map_neuron(out_group.neurons[0])\n"
   ]
  },
  {
   "cell_type": "code",
   "execution_count": null,
   "metadata": {},
   "outputs": [],
   "source": [
    "# Run\n",
    "sim = sanafe.Simulation(arch, snn)\n",
    "results = sim.run(100)\n",
    "print(results)"
   ]
  },
  {
   "cell_type": "code",
   "execution_count": null,
   "metadata": {},
   "outputs": [],
   "source": [
    "# Showcase tracing capabilities"
   ]
  },
  {
   "cell_type": "code",
   "execution_count": null,
   "metadata": {},
   "outputs": [],
   "source": [
    "# Finally the DVS challenge, run this and check output"
   ]
  }
 ],
 "metadata": {
  "kernelspec": {
   "display_name": "wsl",
   "language": "python",
   "name": "python3"
  },
  "language_info": {
   "codemirror_mode": {
    "name": "ipython",
    "version": 3
   },
   "file_extension": ".py",
   "mimetype": "text/x-python",
   "name": "python",
   "nbconvert_exporter": "python",
   "pygments_lexer": "ipython3",
   "version": "3.8.18"
  }
 },
 "nbformat": 4,
 "nbformat_minor": 2
}
