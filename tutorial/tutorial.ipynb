{
 "cells": [
  {
   "cell_type": "code",
   "execution_count": null,
   "metadata": {},
   "outputs": [],
   "source": [
    "%pip install -v --extra-index-url https://test.pypi.org/simple/ sanafe==0.0.1\n",
    "import sanafe"
   ]
  },
  {
   "cell_type": "code",
   "execution_count": null,
   "metadata": {},
   "outputs": [],
   "source": [
    "dir(sanafe)"
   ]
  },
  {
   "cell_type": "markdown",
   "metadata": {},
   "source": [
    "### Running for the first time ###\n",
    "First we will run SANA-FE for the first time using an example network and example architecture. This is analogous to the SANA-FE 'hello world'."
   ]
  },
  {
   "cell_type": "code",
   "execution_count": null,
   "metadata": {},
   "outputs": [],
   "source": [
    "# First, load an architecture description and build the chip (for simulation)\n",
    "hello_arch = sanafe.load_arch(\"arch.yaml\")\n",
    "hello_chip = sanafe.SpikingHardware(hello_arch)\n",
    "# Second, load the SNN from file and upload it to the chip. We pass the arch\n",
    "#  as an extra argument so that SANA-FE can check the mappings are to valid\n",
    "#  cores\n",
    "hello_snn = sanafe.load_net(\"snn.yaml\", hello_arch)\n",
    "hello_chip.load(hello_snn)\n",
    "# Third, run for 200 simulated timesteps and print a summary of the results\n",
    "results = hello_chip.sim(200)\n",
    "print(results)"
   ]
  },
  {
   "cell_type": "markdown",
   "metadata": {},
   "source": [
    "### Architecture Description File ###\n",
    "Next, we will look at an example of an SNN-based architecture in SANA-FE. Inside `arch.yaml` there is a minimal architecture, based on the diagram below. Follow the three exercises given at the top of the `arch.yaml` file to extend the design and add the dashed orange elements (shown below).\n",
    "Make changes and try rerunning the cell above. Once you've made the right changes, you should see the cell pass checks!\n",
    "\n",
    "![Example architecture](example_arch_small.png)"
   ]
  },
  {
   "cell_type": "code",
   "execution_count": null,
   "metadata": {},
   "outputs": [],
   "source": [
    "# code to check the output of the cell above"
   ]
  },
  {
   "cell_type": "markdown",
   "metadata": {},
   "source": [
    "### SNN Description File ###\n",
    "Next, we will finish the SNN defined in `snn.yaml` and map it to our updated architecture. The SNN is shown in the diagram below, with pre-defined elements drawn in black. Complete the four exercises listed in the file to add the orange elements shown and complete this small SNN.\n",
    "\n",
    "![Example SNN](example_snn_small.png)\n"
   ]
  },
  {
   "cell_type": "code",
   "execution_count": null,
   "metadata": {},
   "outputs": [],
   "source": [
    "# code to check the snn description stuff"
   ]
  },
  {
   "cell_type": "markdown",
   "metadata": {},
   "source": [
    "### Python interface ###\n",
    "SANA-FE v2 supports building SNNs in Python, in addition to file-based inputs. The example SNN has been recreated in Python code, now try completing the four exercises again but for Python. As a reminder, these were:\n",
    "#### Exercises ####\n",
    "1. Define a new mapped neuron: 1.1. To do this, add another neuron to group 1 (i.e. increment the number of neurons in the group) and map neuron 1.1 to core 0.1\n",
    "2. Add edges from neurons 0.0 and 0.1, both to neuron 1.1, with weights -2 & 3 respectively\n",
    "3. Set the bias of neuron 0.1 to 0.5\n",
    "4. Configure Group 1 to use the new compressed synapses that you defined H/W for in architecture description, instead of the uncompressed synapses used currently"
   ]
  },
  {
   "cell_type": "code",
   "execution_count": null,
   "metadata": {},
   "outputs": [],
   "source": [
    "# Create an example SNN\n",
    "in_attributes = {\"threshold\": 1.0, \"reset\": 0.0, \"log_spikes\": True, \"log_potential\": True}\n",
    "out_attributes = {\"threshold\": 2.0, \"reset\": 0.0, \"synapse_hw_name\": \"tutorial_synapse_uncompressed\"}\n",
    "\n",
    "# Create neuron groups\n",
    "snn = sanafe.Network()\n",
    "in_group = snn.create_neuron_group(\"in\", 2, in_attributes)\n",
    "out_group = snn.create_neuron_group(\"out\", 1, out_attributes)\n",
    "\n",
    "# Set neuron attributes\n",
    "in_group.neurons[0].set_attributes(model_parameters={\"bias\": 0.2})\n",
    "\n",
    "# Create connections\n",
    "in_group.neurons[0].connect_to_neuron(out_group.neurons[0], {\"weight\": -1.0})\n",
    "\n",
    "# Create mappings\n",
    "arch = sanafe.load_arch(\"arch.yaml\")\n",
    "core = arch.tiles[0].cores[0]\n",
    "in_group.neurons[0].map_to_core(core)\n",
    "in_group.neurons[1].map_to_core(core)\n",
    "out_group.neurons[0].map_to_core(core)"
   ]
  },
  {
   "cell_type": "markdown",
   "metadata": {},
   "source": [
    "Once you've made all the changes, execute the code below to run your updated SNN on the updated arch."
   ]
  },
  {
   "cell_type": "code",
   "execution_count": null,
   "metadata": {},
   "outputs": [],
   "source": [
    "tutorial_chip = sanafe.SpikingHardware(arch)\n",
    "tutorial_chip.load(snn)\n",
    "results = tutorial_chip.sim(100, heartbeat=1)\n",
    "print(results)\n",
    "\n",
    "# Add code to check"
   ]
  },
  {
   "cell_type": "markdown",
   "metadata": {},
   "source": [
    "Now that both an architecture and SNN have been defined, we can look at the\n",
    "outputs SANA-FE can generate for these files. We use -o to specify an output\n",
    "directory. First, we will just look at the run summary that SANA-FE writes\n",
    "to a file, saving all output to the `tutorial` directory.\n",
    "\n",
    "    python3 sim.py -o tutorial tutorial/arch.yaml tutorial/snn.net 10\n",
    "    cat tutorial/run_summary.yaml\n",
    "\n",
    "The file `run_summary.yaml` matches the printed summary at the end of the run.\n",
    "\n",
    "Next, run another simulation but with the spike and potential trace flags set.\n",
    "To enable spike traces, prepend (`-s`) to your run command. If the spike trace\n",
    "flag is set, the simulator will record spikes for neurons with `log_spikes` set\n",
    "to 1 in the SNN description. Similarly, the potential trace is set by\n",
    "prepending (`-v`) to the run command. If enabled, SANA-FE logs the neuron\n",
    "potentials of any voltage probes. Voltage probes are set by defining\n",
    "`log_potential` to 1 for neurons in the SNN description.\n",
    "\n",
    "In this example, two different flags are set simultaneously, i.e., (`-s -v`).\n",
    "Therefore, two traces will be generated: `spikes.csv` and `potential.csv`.\n",
    "\n",
    "    python3 sim.py -s -v -o tutorial tutorial/arch.yaml tutorial/snn.net 10\n",
    "    cat tutorial/spikes.csv\n",
    "    cat tutorial/potential.csv\n",
    "\n",
    "Every line in the spike trace (`tutorial/spikes.csv`) has the format:\n",
    "\n",
    "    <neuron>,<timestep spiked>\n",
    "\n",
    "The potential trace (`tutorial/potential.csv`) has a column per probe and\n",
    "one line per time-step i.e.:\n",
    "\n",
    "    <neuron 0, timestep 0>,<neuron 1, timestep 0>\n",
    "    <neuron 0, timestep 1>,<neuron 1, timestep 1>\n",
    "    ...\n",
    "\n",
    "Try visualizing `potential.csv` by plotting the dynamics of neurons 0.0 and\n",
    "0.1 for 10 simulated timesteps, using your preferred plotting application.\n",
    "\n",
    "Next, run the same simulation but with message and performance traces\n",
    "enabled instead. Message tracing is set by prepending `-m` to the command.\n",
    "This will cause the simulator to record information about spike messages sent\n",
    "by hardware. Performance tracing is set by prepending `-p` to the command.\n",
    "Performance traces contain more detailed per-timestep information about\n",
    "activity on the simulated design. Similar to the last example, we can combine\n",
    "multiple traces, using `-m -p`.\n",
    "\n",
    "    python3 sim.py -m -p -o tutorial tutorial/arch.yaml tutorial/snn.net 10\n",
    "    cat tutorial/perf.csv\n",
    "    cat tutorial/messages.csv\n",
    "\n",
    "Two different traces will be generated: `perf.csv` and `messages.csv`.\n",
    "Both files have similar formats, with one line per time-step and different\n",
    "columns for various statistics. Try visualizing the `fired` and `total_energy`\n",
    "fields over time."
   ]
  }
 ],
 "metadata": {
  "kernelspec": {
   "display_name": "pysanafetest",
   "language": "python",
   "name": "python3"
  },
  "language_info": {
   "codemirror_mode": {
    "name": "ipython",
    "version": 3
   },
   "file_extension": ".py",
   "mimetype": "text/x-python",
   "name": "python",
   "nbconvert_exporter": "python",
   "pygments_lexer": "ipython3",
   "version": "3.8.20"
  }
 },
 "nbformat": 4,
 "nbformat_minor": 2
}
