{
 "cells": [
  {
   "cell_type": "markdown",
   "id": "cbecc269",
   "metadata": {},
   "source": [
    "# Architecture Description File #\n",
    "\n",
    "<a target=\"_blank\" href=\"https://colab.research.google.com/github/SLAM-Lab/SANA-FE/blob/cpp/tutorial/tutorial_1_architecture.ipynb\">\n",
    "  <img src=\"https://colab.research.google.com/assets/colab-badge.svg\" alt=\"Open In Colab\"/>"
   ]
  },
  {
   "cell_type": "markdown",
   "id": "2af44d97",
   "metadata": {},
   "source": [
    "\n",
    "In SANA-FE, you can describe different spiking architectures using a custom YAML-based architecture description format. The file `arch.yaml` contains a minimal example architecture based on the diagram below. Follow the three exercises at the top of the `arch.yaml` file to extend the architecture. These new elements are shown in dashed orange below.\n",
    "\n",
    "![Example architecture](example_arch.svg)\n",
    "\n",
    "#### Exercises ####\n",
    "1. Set the costs of a neuron update in the soma from 0.0 ns to 2.0 ns and from 0.0 pJ to 2.0 pJ. Note that ns=e-9 and pJ=e-12.\n",
    "2. Duplicate tiles 2 times and each core 4 times within every tile (8 cores total). (For a hint look at files/loihi.yaml)\n",
    "3. Define an additional synapse unit for compressed synapses. The energy and latency costs for reading a compressed synapse is 0.5 pJ and 2 ns. For a hint in how to define multiple hardware units, look at tutorial/loihi.yaml. This has three different synapse units defined.\n",
    "\n",
    "After completing the exercises, run the next cell to see if all the checks pass!"
   ]
  },
  {
   "cell_type": "code",
   "execution_count": null,
   "id": "d5e8aedb",
   "metadata": {},
   "outputs": [],
   "source": [
    "%pip install --extra-index-url https://test.pypi.org/simple/ sanafe==0.0.7\n",
    "%pip install pyyaml\n",
    "!wget -nc https://raw.githubusercontent.com/SLAM-Lab/SANA-FE/cpp/tutorial/arch.yaml\n",
    "!wget -nc https://raw.githubusercontent.com/SLAM-Lab/SANA-FE/cpp/tutorial/snn.yaml\n",
    "import sanafe"
   ]
  },
  {
   "cell_type": "code",
   "execution_count": null,
   "id": "164d045d",
   "metadata": {},
   "outputs": [],
   "source": [
    "import sanafe.tutorial\n",
    "sanafe.tutorial.check_arch(\"arch.yaml\")"
   ]
  }
 ],
 "metadata": {
  "kernelspec": {
   "display_name": "neuro",
   "language": "python",
   "name": "python3"
  },
  "language_info": {
   "codemirror_mode": {
    "name": "ipython",
    "version": 3
   },
   "file_extension": ".py",
   "mimetype": "text/x-python",
   "name": "python",
   "nbconvert_exporter": "python",
   "pygments_lexer": "ipython3",
   "version": "3.8.20"
  }
 },
 "nbformat": 4,
 "nbformat_minor": 5
}
