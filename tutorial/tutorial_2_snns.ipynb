{
 "cells": [
  {
   "cell_type": "markdown",
   "id": "571553bb",
   "metadata": {},
   "source": [
    "# SNN Description File #\n",
    "<a target=\"_blank\" href=\"https://colab.research.google.com/github/SLAM-Lab/SANA-FE/blob/main/tutorial/tutorial_2_snns.ipynb\">\n",
    "  <img src=\"https://colab.research.google.com/assets/colab-badge.svg\" alt=\"Open In Colab\"/>"
   ]
  },
  {
   "cell_type": "markdown",
   "id": "7bcd6c63",
   "metadata": {
    "vscode": {
     "languageId": "plaintext"
    }
   },
   "source": [
    "Next, we will finish the SNN defined in `snn.yaml` and map it to our updated architecture. The SNN is shown in the diagram below, with pre-defined elements drawn in black. Complete the four exercises listed in the file to add the orange elements shown and complete this small SNN.\n",
    "\n",
    "![Example SNN](example_snn.svg)"
   ]
  },
  {
   "cell_type": "markdown",
   "id": "c3c81565",
   "metadata": {},
   "source": [
    "## Exercises ##\n",
    "1. Define a new mapped neuron: 1.1. To do this, add another neuron to group 1 with no attributes (leave the attribute list empty), and map neuron 1.1 to core 0.1\n",
    "2. Add edges from neurons 0.0 and 0.1, both to neuron 1.1, with weights -2 & 3 respectively\n",
    "3. Set the bias of neuron 0.1 to 0.5\n",
    "4. Configure Group 1 to use the new compressed synapses that you defined H/W for in architecture description, instead of the uncompressed synapses used currently\n",
    "\n"
   ]
  },
  {
   "cell_type": "code",
   "execution_count": null,
   "id": "d68a15a2",
   "metadata": {},
   "outputs": [],
   "source": [
    "%pip install sanafe==2.0.20\n",
    "%pip install pyyaml\n",
    "!wget -nc https://raw.githubusercontent.com/SLAM-Lab/SANA-FE/main/tutorial/arch.yaml\n",
    "!wget -nc https://raw.githubusercontent.com/SLAM-Lab/SANA-FE/main/tutorial/snn.yaml\n",
    "import sanafe"
   ]
  },
  {
   "cell_type": "code",
   "execution_count": null,
   "id": "2b09ae5a",
   "metadata": {},
   "outputs": [],
   "source": [
    "import sanafe.tutorial\n",
    "sanafe.tutorial.check_snn(\"snn.yaml\")"
   ]
  }
 ],
 "metadata": {
  "kernelspec": {
   "display_name": "neuro",
   "language": "python",
   "name": "python3"
  },
  "language_info": {
   "codemirror_mode": {
    "name": "ipython",
    "version": 3
   },
   "file_extension": ".py",
   "mimetype": "text/x-python",
   "name": "python",
   "nbconvert_exporter": "python",
   "pygments_lexer": "ipython3",
   "version": "3.8.20"
  }
 },
 "nbformat": 4,
 "nbformat_minor": 5
}
