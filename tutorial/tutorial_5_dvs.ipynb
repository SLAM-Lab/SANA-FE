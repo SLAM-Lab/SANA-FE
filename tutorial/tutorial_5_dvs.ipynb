{
 "cells": [
  {
   "cell_type": "markdown",
   "id": "cdd95780",
   "metadata": {},
   "source": [
    "<a target=\"_blank\" href=\"https://colab.research.google.com/github/SLAM-Lab/SANA-FE/blob/cpp/tutorial/tutorial_5_dvs.ipynb\">\n",
    "  <img src=\"https://colab.research.google.com/assets/colab-badge.svg\" alt=\"Open In Colab\"/>"
   ]
  },
  {
   "cell_type": "code",
   "execution_count": null,
   "id": "e0330cab",
   "metadata": {},
   "outputs": [],
   "source": [
    "%pip install --extra-index-url https://test.pypi.org/simple/ sanafe==0.0.4\n",
    "%pip install pyyaml\n",
    "!wget -nc https://raw.githubusercontent.com/SLAM-Lab/SANA-FE/cpp/arch/loihi.yaml\n",
    "!wget --no-check-certificate 'https://docs.google.com/uc?export=download&id=1WkbJZFasTe-v8vTYXrUaz_1e-p_xHMEj' -O dvs_challenge.npz\n",
    "import sanafe\n",
    "import sanafe.layers"
   ]
  },
  {
   "cell_type": "code",
   "execution_count": null,
   "id": "67df667e",
   "metadata": {},
   "outputs": [],
   "source": [
    "arch = sanafe.load_arch(\"loihi.yaml\")\n",
    "snn = sanafe.Network()\n",
    "\n",
    "# Load the convolutional kernel weights, thresholds and input biases from file.\n",
    "#  If using the Docker container, this file is included in the image.\n",
    "#  Otherwise, this file is also hosted on Google Drive and can be downloaded\n",
    "#  prior to running this script\n",
    "import numpy as np\n",
    "try:\n",
    "    snn_attributes = np.load(\"dvs_challenge.npz\")\n",
    "except FileNotFoundError as exc:\n",
    "    print(exc)\n",
    "    print(\"\"\"\n",
    "To run this challenge, you need to download the network kernel weights: dvs_challenge.npz, to the tutorial directory.\n",
    "These weights are hosted online on a shared Google Drive. To download the file with a in Linux run the command:\n",
    "\n",
    "wget --no-check-certificate 'https://docs.google.com/uc?export=download&id=1WkbJZFasTe-v8vTYXrUaz_1e-p_xHMEj' -O tutorial/dvs_challenge.npz\n",
    "\n",
    "Or go directly to the drive at: https://drive.google.com/drive/folders/1GzjXAFouakm3b6GcFIHsw67H8t6l3BtY?usp=drive_link\n",
    "          \"\"\")\n",
    "    exit()\n",
    "\n",
    "# Convert the DVS gesture categorization model to SANA-FE's SNN format\n",
    "thresholds = snn_attributes[\"thresholds\"]\n",
    "biases = snn_attributes[\"inputs\"]\n",
    "\n",
    "layer0 = sanafe.layers.Input2D(snn, 32, 32, threshold=thresholds[0])\n",
    "layer1 = sanafe.layers.Conv2D(snn, layer0, snn_attributes[\"conv1\"],\n",
    "                              stride_width=2, stride_height=2, threshold=thresholds[1])\n",
    "layer2 = sanafe.layers.Conv2D(snn, layer1, snn_attributes[\"conv2\"], threshold=thresholds[2])\n",
    "layer3 = sanafe.layers.Conv2D(snn, layer2, snn_attributes[\"conv3\"], threshold=thresholds[3])\n",
    "layer4 = sanafe.layers.Conv2D(snn, layer3, snn_attributes[\"conv4\"], threshold=thresholds[4])\n",
    "layer5 = sanafe.layers.Dense(snn, layer4, 11, snn_attributes[\"dense1\"], threshold=thresholds[5])\n",
    "\n",
    "# Finally set up the inputs\n",
    "for n, b in zip(layer0, biases):\n",
    "    n.set_attributes(model_attributes={\"bias\": b})\n"
   ]
  },
  {
   "cell_type": "code",
   "execution_count": null,
   "id": "f133bb3e",
   "metadata": {},
   "outputs": [],
   "source": [
    "# Map the SNN to Loihi cores. Specify the number of cores each layer is evenly\n",
    "#  mapped across. Feel free to experiment with changing the line below\n",
    "layer_mapped_core_counts = [1, 4, 16, 16, 4, 1]"
   ]
  },
  {
   "cell_type": "code",
   "execution_count": null,
   "id": "70ad7113",
   "metadata": {},
   "outputs": [],
   "source": [
    "# Map neurons, taking into account the number of cores we want to map across\n",
    "#  each layer\n",
    "total_cores_mapped = 0\n",
    "\n",
    "def map_layer_to_cores(layer, cores, core_count):\n",
    "    global total_cores_mapped\n",
    "    total_neurons = len(layer)\n",
    "    neurons_per_core = total_neurons // core_count\n",
    "    for idx in range(core_count):\n",
    "        first_nid = idx * neurons_per_core\n",
    "        is_last = (idx == (core_count-1))\n",
    "        if is_last:\n",
    "            neurons_to_map_to_core = layer[first_nid:]\n",
    "        else:\n",
    "            last_nid = (idx+1) * neurons_per_core\n",
    "            neurons_to_map_to_core = layer[first_nid:last_nid]\n",
    "\n",
    "        for neuron in neurons_to_map_to_core:\n",
    "            neuron.map_to_core(cores[total_cores_mapped])\n",
    "        total_cores_mapped += 1\n",
    "    return\n",
    "\n",
    "for n in layer0:\n",
    "    n.map_to_core(arch.tiles[0].cores[0])\n",
    "\n",
    "cores = arch.cores()\n",
    "map_layer_to_cores(layer0, cores, layer_mapped_core_counts[0])\n",
    "map_layer_to_cores(layer1, cores, layer_mapped_core_counts[1])\n",
    "map_layer_to_cores(layer2, cores, layer_mapped_core_counts[2])\n",
    "map_layer_to_cores(layer3, cores, layer_mapped_core_counts[3])\n",
    "map_layer_to_cores(layer4, cores, layer_mapped_core_counts[4])\n",
    "map_layer_to_cores(layer5, cores, layer_mapped_core_counts[5])"
   ]
  },
  {
   "cell_type": "code",
   "execution_count": null,
   "id": "a1b90dfe",
   "metadata": {},
   "outputs": [],
   "source": [
    "# Run the network you just generated on Loihi\n",
    "# Comment out this line if you want to stop the simulations running\n",
    "chip = sanafe.SpikingChip(arch)\n",
    "chip.load(snn)\n",
    "results = chip.sim(1000)"
   ]
  },
  {
   "cell_type": "code",
   "execution_count": null,
   "id": "c83c9355",
   "metadata": {},
   "outputs": [],
   "source": [
    "# Check the runtime results against expected values to make sure nothing got\n",
    "#  messed up earlier\n",
    "expected_firing_neurons = 365277\n",
    "if results[\"neurons_fired\"] != expected_firing_neurons:\n",
    "    print(f\"Error: The total number of neurons spiking was \"\n",
    "          f\"{results['neurons_fired']}, \"\n",
    "          f\"should be {expected_firing_neurons}\")\n",
    "    print(\"Somehow you may have changed the functional behavior of the SNN\")\n",
    "    raise RuntimeError\n",
    "\n",
    "# The energy-delay product is our final performance metric. See how low you can\n",
    "#  get this number!\n",
    "energy_delay_product = results[\"energy\"][\"total\"] * results[\"sim_time\"]\n",
    "print(f\"Energy-Delay product: {energy_delay_product}\")"
   ]
  }
 ],
 "metadata": {
  "kernelspec": {
   "display_name": "neuro",
   "language": "python",
   "name": "python3"
  },
  "language_info": {
   "codemirror_mode": {
    "name": "ipython",
    "version": 3
   },
   "file_extension": ".py",
   "mimetype": "text/x-python",
   "name": "python",
   "nbconvert_exporter": "python",
   "pygments_lexer": "ipython3",
   "version": "3.8.20"
  }
 },
 "nbformat": 4,
 "nbformat_minor": 5
}
